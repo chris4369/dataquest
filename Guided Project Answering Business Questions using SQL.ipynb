{
 "cells": [
  {
   "cell_type": "markdown",
   "metadata": {
    "collapsed": true
   },
   "source": [
    "# Chinook Database"
   ]
  },
  {
   "cell_type": "markdown",
   "metadata": {},
   "source": [
    "We will be working with chinook.db to answer business questions using SQL."
   ]
  },
  {
   "cell_type": "markdown",
   "metadata": {},
   "source": [
    "## Connecting to Database"
   ]
  },
  {
   "cell_type": "code",
   "execution_count": 1,
   "metadata": {},
   "outputs": [
    {
     "data": {
      "text/plain": [
       "'Connected: None@chinook.db'"
      ]
     },
     "execution_count": 1,
     "metadata": {},
     "output_type": "execute_result"
    }
   ],
   "source": [
    "%%capture\n",
    "%load_ext sql\n",
    "%sql sqlite:///chinook.db"
   ]
  },
  {
   "cell_type": "markdown",
   "metadata": {},
   "source": [
    "## Detail of Chinook Database"
   ]
  },
  {
   "cell_type": "markdown",
   "metadata": {},
   "source": [
    "We will write query to see information on the tables and views in the database."
   ]
  },
  {
   "cell_type": "code",
   "execution_count": 2,
   "metadata": {},
   "outputs": [
    {
     "name": "stdout",
     "output_type": "stream",
     "text": [
      "Done.\n"
     ]
    },
    {
     "data": {
      "text/html": [
       "<table>\n",
       "    <tr>\n",
       "        <th>name</th>\n",
       "        <th>type</th>\n",
       "    </tr>\n",
       "    <tr>\n",
       "        <td>album</td>\n",
       "        <td>table</td>\n",
       "    </tr>\n",
       "    <tr>\n",
       "        <td>artist</td>\n",
       "        <td>table</td>\n",
       "    </tr>\n",
       "    <tr>\n",
       "        <td>customer</td>\n",
       "        <td>table</td>\n",
       "    </tr>\n",
       "    <tr>\n",
       "        <td>employee</td>\n",
       "        <td>table</td>\n",
       "    </tr>\n",
       "    <tr>\n",
       "        <td>genre</td>\n",
       "        <td>table</td>\n",
       "    </tr>\n",
       "    <tr>\n",
       "        <td>invoice</td>\n",
       "        <td>table</td>\n",
       "    </tr>\n",
       "    <tr>\n",
       "        <td>invoice_line</td>\n",
       "        <td>table</td>\n",
       "    </tr>\n",
       "    <tr>\n",
       "        <td>media_type</td>\n",
       "        <td>table</td>\n",
       "    </tr>\n",
       "    <tr>\n",
       "        <td>playlist</td>\n",
       "        <td>table</td>\n",
       "    </tr>\n",
       "    <tr>\n",
       "        <td>playlist_track</td>\n",
       "        <td>table</td>\n",
       "    </tr>\n",
       "    <tr>\n",
       "        <td>track</td>\n",
       "        <td>table</td>\n",
       "    </tr>\n",
       "</table>"
      ],
      "text/plain": [
       "[('album', 'table'),\n",
       " ('artist', 'table'),\n",
       " ('customer', 'table'),\n",
       " ('employee', 'table'),\n",
       " ('genre', 'table'),\n",
       " ('invoice', 'table'),\n",
       " ('invoice_line', 'table'),\n",
       " ('media_type', 'table'),\n",
       " ('playlist', 'table'),\n",
       " ('playlist_track', 'table'),\n",
       " ('track', 'table')]"
      ]
     },
     "execution_count": 2,
     "metadata": {},
     "output_type": "execute_result"
    }
   ],
   "source": [
    "%%sql\n",
    "SELECT\n",
    "    name,\n",
    "    type\n",
    "FROM sqlite_master\n",
    "WHERE type IN (\"table\",\"view\");"
   ]
  },
  {
   "cell_type": "markdown",
   "metadata": {},
   "source": [
    "## Selecting New Albums to Purchase"
   ]
  },
  {
   "cell_type": "markdown",
   "metadata": {},
   "source": [
    "Our client Chinook is considering adding three new albums to their list and has given us task to find number of tracks sold in USA by each genre. Our query will list genre by number of tracks sold in USA and percentage of total sold."
   ]
  },
  {
   "cell_type": "code",
   "execution_count": 3,
   "metadata": {},
   "outputs": [
    {
     "name": "stdout",
     "output_type": "stream",
     "text": [
      "Done.\n"
     ]
    },
    {
     "data": {
      "text/html": [
       "<table>\n",
       "    <tr>\n",
       "        <th>genre_id</th>\n",
       "        <th>genre_name</th>\n",
       "        <th>number_of_track_sold</th>\n",
       "        <th>percentage_sold</th>\n",
       "    </tr>\n",
       "    <tr>\n",
       "        <td>1</td>\n",
       "        <td>Rock</td>\n",
       "        <td>561</td>\n",
       "        <td>0.5337773549000951</td>\n",
       "    </tr>\n",
       "    <tr>\n",
       "        <td>4</td>\n",
       "        <td>Alternative &amp; Punk</td>\n",
       "        <td>130</td>\n",
       "        <td>0.12369172216936251</td>\n",
       "    </tr>\n",
       "    <tr>\n",
       "        <td>3</td>\n",
       "        <td>Metal</td>\n",
       "        <td>124</td>\n",
       "        <td>0.11798287345385347</td>\n",
       "    </tr>\n",
       "    <tr>\n",
       "        <td>14</td>\n",
       "        <td>R&amp;B/Soul</td>\n",
       "        <td>53</td>\n",
       "        <td>0.05042816365366318</td>\n",
       "    </tr>\n",
       "    <tr>\n",
       "        <td>6</td>\n",
       "        <td>Blues</td>\n",
       "        <td>36</td>\n",
       "        <td>0.03425309229305423</td>\n",
       "    </tr>\n",
       "    <tr>\n",
       "        <td>23</td>\n",
       "        <td>Alternative</td>\n",
       "        <td>35</td>\n",
       "        <td>0.03330161750713606</td>\n",
       "    </tr>\n",
       "    <tr>\n",
       "        <td>7</td>\n",
       "        <td>Latin</td>\n",
       "        <td>22</td>\n",
       "        <td>0.02093244529019981</td>\n",
       "    </tr>\n",
       "    <tr>\n",
       "        <td>9</td>\n",
       "        <td>Pop</td>\n",
       "        <td>22</td>\n",
       "        <td>0.02093244529019981</td>\n",
       "    </tr>\n",
       "    <tr>\n",
       "        <td>17</td>\n",
       "        <td>Hip Hop/Rap</td>\n",
       "        <td>20</td>\n",
       "        <td>0.019029495718363463</td>\n",
       "    </tr>\n",
       "    <tr>\n",
       "        <td>2</td>\n",
       "        <td>Jazz</td>\n",
       "        <td>14</td>\n",
       "        <td>0.013320647002854425</td>\n",
       "    </tr>\n",
       "    <tr>\n",
       "        <td>12</td>\n",
       "        <td>Easy Listening</td>\n",
       "        <td>13</td>\n",
       "        <td>0.012369172216936251</td>\n",
       "    </tr>\n",
       "    <tr>\n",
       "        <td>8</td>\n",
       "        <td>Reggae</td>\n",
       "        <td>6</td>\n",
       "        <td>0.005708848715509039</td>\n",
       "    </tr>\n",
       "    <tr>\n",
       "        <td>15</td>\n",
       "        <td>Electronica/Dance</td>\n",
       "        <td>5</td>\n",
       "        <td>0.004757373929590866</td>\n",
       "    </tr>\n",
       "    <tr>\n",
       "        <td>24</td>\n",
       "        <td>Classical</td>\n",
       "        <td>4</td>\n",
       "        <td>0.003805899143672693</td>\n",
       "    </tr>\n",
       "    <tr>\n",
       "        <td>13</td>\n",
       "        <td>Heavy Metal</td>\n",
       "        <td>3</td>\n",
       "        <td>0.0028544243577545195</td>\n",
       "    </tr>\n",
       "    <tr>\n",
       "        <td>10</td>\n",
       "        <td>Soundtrack</td>\n",
       "        <td>2</td>\n",
       "        <td>0.0019029495718363464</td>\n",
       "    </tr>\n",
       "    <tr>\n",
       "        <td>19</td>\n",
       "        <td>TV Shows</td>\n",
       "        <td>1</td>\n",
       "        <td>0.0009514747859181732</td>\n",
       "    </tr>\n",
       "</table>"
      ],
      "text/plain": [
       "[(1, 'Rock', 561, 0.5337773549000951),\n",
       " (4, 'Alternative & Punk', 130, 0.12369172216936251),\n",
       " (3, 'Metal', 124, 0.11798287345385347),\n",
       " (14, 'R&B/Soul', 53, 0.05042816365366318),\n",
       " (6, 'Blues', 36, 0.03425309229305423),\n",
       " (23, 'Alternative', 35, 0.03330161750713606),\n",
       " (7, 'Latin', 22, 0.02093244529019981),\n",
       " (9, 'Pop', 22, 0.02093244529019981),\n",
       " (17, 'Hip Hop/Rap', 20, 0.019029495718363463),\n",
       " (2, 'Jazz', 14, 0.013320647002854425),\n",
       " (12, 'Easy Listening', 13, 0.012369172216936251),\n",
       " (8, 'Reggae', 6, 0.005708848715509039),\n",
       " (15, 'Electronica/Dance', 5, 0.004757373929590866),\n",
       " (24, 'Classical', 4, 0.003805899143672693),\n",
       " (13, 'Heavy Metal', 3, 0.0028544243577545195),\n",
       " (10, 'Soundtrack', 2, 0.0019029495718363464),\n",
       " (19, 'TV Shows', 1, 0.0009514747859181732)]"
      ]
     },
     "execution_count": 3,
     "metadata": {},
     "output_type": "execute_result"
    }
   ],
   "source": [
    "%%sql\n",
    "WITH customer_usa_invoice AS (\n",
    "                                SELECT \n",
    "                                        i.invoice_id \n",
    "                                FROM invoice i INNER JOIN (SELECT customer_id FROM customer WHERE country='USA') cu\n",
    "                                ON cu.customer_id = i.customer_id\n",
    "                             ),\n",
    "customer_usa_tracks AS ( \n",
    "                        SELECT \n",
    "                                il.track_id\n",
    "                        FROM invoice_line il INNER JOIN customer_usa_invoice cui\n",
    "                        ON cui.invoice_id = il.invoice_id\n",
    "                        ),\n",
    "\n",
    "customer_usa_genre AS  (\n",
    "                        SELECT \n",
    "                                t.genre_id, \n",
    "                                COUNT(t.track_id) number_of_track_sold\n",
    "                                \n",
    "                        FROM track t INNER JOIN customer_usa_tracks cut\n",
    "                        ON cut.track_id = t.track_id\n",
    "                        GROUP BY genre_id\n",
    "                        )\n",
    "\n",
    "\n",
    "SELECT \n",
    "        cug.genre_id, \n",
    "        g.name genre_name, number_of_track_sold, \n",
    "        number_of_track_sold / CAST((SELECT COUNT(track_id) from customer_usa_tracks) AS Float) percentage_sold\n",
    "FROM customer_usa_genre cug INNER JOIN genre g\n",
    "ON g.genre_id = cug.genre_id\n",
    "ORDER BY number_of_track_sold DESC;                    "
   ]
  },
  {
   "cell_type": "markdown",
   "metadata": {},
   "source": [
    "Above query showed rank of genre in tracks sold. We will suggest three artist from the list of four new artist based on genre ranking:\n",
    "\n",
    "* Red Tone - Punk\n",
    "* Slim Jim Bites - Blues\n",
    "* Meteor and the Girls - Pop"
   ]
  },
  {
   "cell_type": "markdown",
   "metadata": {},
   "source": [
    "## Sales Support Agent Performance"
   ]
  },
  {
   "cell_type": "markdown",
   "metadata": {},
   "source": [
    "The Chinook has asked to analyze the purchases of customers belonging to each employee to check their performances."
   ]
  },
  {
   "cell_type": "markdown",
   "metadata": {},
   "source": [
    "We will write a query that finds total dollar amount of sales assigned to each sales support agent."
   ]
  },
  {
   "cell_type": "code",
   "execution_count": 4,
   "metadata": {},
   "outputs": [
    {
     "name": "stdout",
     "output_type": "stream",
     "text": [
      "Done.\n"
     ]
    },
    {
     "data": {
      "text/html": [
       "<table>\n",
       "    <tr>\n",
       "        <th>employee_name</th>\n",
       "        <th>hire_date</th>\n",
       "        <th>total_sales</th>\n",
       "    </tr>\n",
       "    <tr>\n",
       "        <td>Jane Peacock</td>\n",
       "        <td>2017-04-01 00:00:00</td>\n",
       "        <td>1731.51</td>\n",
       "    </tr>\n",
       "    <tr>\n",
       "        <td>Margaret Park</td>\n",
       "        <td>2017-05-03 00:00:00</td>\n",
       "        <td>1584.0</td>\n",
       "    </tr>\n",
       "    <tr>\n",
       "        <td>Steve Johnson</td>\n",
       "        <td>2017-10-17 00:00:00</td>\n",
       "        <td>1393.92</td>\n",
       "    </tr>\n",
       "</table>"
      ],
      "text/plain": [
       "[('Jane Peacock', '2017-04-01 00:00:00', 1731.51),\n",
       " ('Margaret Park', '2017-05-03 00:00:00', 1584.0),\n",
       " ('Steve Johnson', '2017-10-17 00:00:00', 1393.92)]"
      ]
     },
     "execution_count": 4,
     "metadata": {},
     "output_type": "execute_result"
    }
   ],
   "source": [
    "%%sql\n",
    "WITH customer_total AS\n",
    "                        (\n",
    "                            SELECT i.customer_id, SUM(i.total) total_purchase, c.support_rep_id\n",
    "                            FROM invoice i INNER JOIN customer c\n",
    "                            ON c.customer_id = i.customer_id\n",
    "                            GROUP BY i.customer_id\n",
    "                        ),\n",
    "    rep_total AS\n",
    "                    ( \n",
    "                        SELECT support_rep_id, SUM(total_purchase) total_sales\n",
    "                        FROM customer_total\n",
    "                        GROUP BY support_rep_id\n",
    "                    )\n",
    "        \n",
    "SELECT e.first_name||' '||e.last_name employee_name, e.hire_date, ROUND(rt.total_sales,2) total_sales\n",
    "FROM employee e INNER JOIN rep_total rt \n",
    "ON rt.support_rep_id = e.employee_id\n",
    "ORDER BY rt.total_sales DESC;"
   ]
  },
  {
   "cell_type": "markdown",
   "metadata": {},
   "source": [
    "Above query showed Jane had highest total_sales amount but we cannot conclude since she was hired earlier than other employees. "
   ]
  },
  {
   "cell_type": "markdown",
   "metadata": {
    "collapsed": true
   },
   "source": [
    "# Analyzing Sales by Country"
   ]
  },
  {
   "cell_type": "markdown",
   "metadata": {
    "collapsed": true
   },
   "source": [
    "We will be analyzing the data for each country for following:\n",
    "\n",
    "* total number of customers\n",
    "* total value of sales\n",
    "* average value of sales per customer\n",
    "* average order value\n",
    "\n",
    "Because there are number of countries with only one customer, we will group these customers as 'Other in our analysis."
   ]
  },
  {
   "cell_type": "code",
   "execution_count": 5,
   "metadata": {},
   "outputs": [
    {
     "name": "stdout",
     "output_type": "stream",
     "text": [
      "Done.\n"
     ]
    },
    {
     "data": {
      "text/html": [
       "<table>\n",
       "    <tr>\n",
       "        <th>country</th>\n",
       "        <th>number_of_customers</th>\n",
       "        <th>total_sales</th>\n",
       "        <th>average_sales_customer</th>\n",
       "        <th>average_order</th>\n",
       "    </tr>\n",
       "    <tr>\n",
       "        <td>USA</td>\n",
       "        <td>13</td>\n",
       "        <td>1040.4899999999998</td>\n",
       "        <td>80.0376923076923</td>\n",
       "        <td>7.942671755725189</td>\n",
       "    </tr>\n",
       "    <tr>\n",
       "        <td>Canada</td>\n",
       "        <td>8</td>\n",
       "        <td>535.5900000000001</td>\n",
       "        <td>66.94875000000002</td>\n",
       "        <td>7.047236842105265</td>\n",
       "    </tr>\n",
       "    <tr>\n",
       "        <td>Brazil</td>\n",
       "        <td>5</td>\n",
       "        <td>427.68000000000006</td>\n",
       "        <td>85.53600000000002</td>\n",
       "        <td>7.0111475409836075</td>\n",
       "    </tr>\n",
       "    <tr>\n",
       "        <td>France</td>\n",
       "        <td>5</td>\n",
       "        <td>389.0699999999999</td>\n",
       "        <td>77.81399999999998</td>\n",
       "        <td>7.781399999999998</td>\n",
       "    </tr>\n",
       "    <tr>\n",
       "        <td>Germany</td>\n",
       "        <td>4</td>\n",
       "        <td>334.62</td>\n",
       "        <td>83.655</td>\n",
       "        <td>8.161463414634147</td>\n",
       "    </tr>\n",
       "    <tr>\n",
       "        <td>Czech Republic</td>\n",
       "        <td>2</td>\n",
       "        <td>273.24000000000007</td>\n",
       "        <td>136.62000000000003</td>\n",
       "        <td>9.108000000000002</td>\n",
       "    </tr>\n",
       "    <tr>\n",
       "        <td>United Kingdom</td>\n",
       "        <td>3</td>\n",
       "        <td>245.52</td>\n",
       "        <td>81.84</td>\n",
       "        <td>8.768571428571429</td>\n",
       "    </tr>\n",
       "    <tr>\n",
       "        <td>Portugal</td>\n",
       "        <td>2</td>\n",
       "        <td>185.13000000000002</td>\n",
       "        <td>92.56500000000001</td>\n",
       "        <td>6.383793103448276</td>\n",
       "    </tr>\n",
       "    <tr>\n",
       "        <td>India</td>\n",
       "        <td>2</td>\n",
       "        <td>183.14999999999998</td>\n",
       "        <td>91.57499999999999</td>\n",
       "        <td>8.72142857142857</td>\n",
       "    </tr>\n",
       "    <tr>\n",
       "        <td>Other</td>\n",
       "        <td>15</td>\n",
       "        <td>1094.9400000000003</td>\n",
       "        <td>72.99600000000002</td>\n",
       "        <td>7.44857142857143</td>\n",
       "    </tr>\n",
       "</table>"
      ],
      "text/plain": [
       "[('USA', 13, 1040.4899999999998, 80.0376923076923, 7.942671755725189),\n",
       " ('Canada', 8, 535.5900000000001, 66.94875000000002, 7.047236842105265),\n",
       " ('Brazil', 5, 427.68000000000006, 85.53600000000002, 7.0111475409836075),\n",
       " ('France', 5, 389.0699999999999, 77.81399999999998, 7.781399999999998),\n",
       " ('Germany', 4, 334.62, 83.655, 8.161463414634147),\n",
       " ('Czech Republic', 2, 273.24000000000007, 136.62000000000003, 9.108000000000002),\n",
       " ('United Kingdom', 3, 245.52, 81.84, 8.768571428571429),\n",
       " ('Portugal', 2, 185.13000000000002, 92.56500000000001, 6.383793103448276),\n",
       " ('India', 2, 183.14999999999998, 91.57499999999999, 8.72142857142857),\n",
       " ('Other', 15, 1094.9400000000003, 72.99600000000002, 7.44857142857143)]"
      ]
     },
     "execution_count": 5,
     "metadata": {},
     "output_type": "execute_result"
    }
   ],
   "source": [
    "%%sql\n",
    "WITH customer_country AS (\n",
    "                            SELECT \n",
    "                                    CASE\n",
    "                                    WHEN (SELECT COUNT(*) \n",
    "                                        FROM customer\n",
    "                                        WHERE country=c.country)=1 THEN 'Other'\n",
    "                                        ELSE c.country\n",
    "                                    END AS country,\n",
    "                                    c.customer_id\n",
    "                            FROM customer c\n",
    "                            ), \n",
    "country_total AS (\n",
    "                    SELECT cc.country, \n",
    "                            i.invoice_id, \n",
    "                            i.customer_id, \n",
    "                            i.total\n",
    "                            \n",
    "                    FROM invoice i            \n",
    "                    INNER JOIN customer_country cc\n",
    "                    on cc.customer_id = i.customer_id\n",
    "                )\n",
    "\n",
    "SELECT country,\n",
    "        number_of_customers,\n",
    "        total_sales,\n",
    "        average_sales_customer,\n",
    "        average_order\n",
    "\n",
    "FROM (\n",
    "        SELECT  country,\n",
    "                COUNT(distinct customer_id) number_of_customers, \n",
    "                SUM(total) total_sales,\n",
    "                SUM(total) / COUNT(distinct customer_id) average_sales_customer,\n",
    "                SUM(total) / COUNT(distinct invoice_id) average_order,\n",
    "                CASE\n",
    "                    WHEN country = 'Other' THEN 1\n",
    "                    ELSE 0\n",
    "                    END AS sort\n",
    "            FROM country_total \n",
    "            GROUP BY country\n",
    "        )\n",
    "\n",
    "ORDER BY sort ASC, total_sales DESC;\n",
    "        "
   ]
  },
  {
   "cell_type": "markdown",
   "metadata": {
    "collapsed": true
   },
   "source": [
    "## Analyzing Full Album Puchases"
   ]
  },
  {
   "cell_type": "markdown",
   "metadata": {
    "collapsed": true
   },
   "source": [
    "The Chinook is considering whether they should keep purchasing whole album from records companies.\n",
    "\n",
    "We will analyze whole album sales and advise the company whether they should keep purchase whole albums instead purchase only the most popular tracks."
   ]
  },
  {
   "cell_type": "code",
   "execution_count": 6,
   "metadata": {},
   "outputs": [
    {
     "name": "stdout",
     "output_type": "stream",
     "text": [
      "Done.\n"
     ]
    },
    {
     "data": {
      "text/html": [
       "<table>\n",
       "    <tr>\n",
       "        <th>album_purchase</th>\n",
       "        <th>number_of_invoices</th>\n",
       "        <th>percentage</th>\n",
       "    </tr>\n",
       "    <tr>\n",
       "        <td>No</td>\n",
       "        <td>500</td>\n",
       "        <td>0.8143322475570033</td>\n",
       "    </tr>\n",
       "    <tr>\n",
       "        <td>yes</td>\n",
       "        <td>114</td>\n",
       "        <td>0.18566775244299674</td>\n",
       "    </tr>\n",
       "</table>"
      ],
      "text/plain": [
       "[('No', 500, 0.8143322475570033), ('yes', 114, 0.18566775244299674)]"
      ]
     },
     "execution_count": 6,
     "metadata": {},
     "output_type": "execute_result"
    }
   ],
   "source": [
    "%%sql\n",
    "WITH first_track_invoice AS\n",
    "                            (\n",
    "                                SELECT MIN(track_id) first_track_id, invoice_id\n",
    "                                FROM invoice_line\n",
    "                                GROUP BY invoice_id\n",
    "                            )\n",
    "    \n",
    "SELECT  album_purchase, \n",
    "        COUNT(invoice_id) number_of_invoices,\n",
    "        CAST(COUNT(invoice_id) AS FLOAT) / (SELECT COUNT(invoice_id) FROM invoice) percentage\n",
    "FROM (\n",
    "        SELECT fti.*,\n",
    "            CASE \n",
    "                WHEN (SELECT track_id\n",
    "                      FROM track \n",
    "                      WHERE album_id = (SELECT t2.album_id FROM track t2 WHERE t2.track_id = fti.first_track_id)\n",
    "                      EXCEPT\n",
    "                      SELECT track_id\n",
    "                      FROM invoice_line WHERE invoice_id = fti.invoice_id) IS NULL\n",
    "                AND\n",
    "                    (SELECT track_id\n",
    "                     FROM invoice_line WHERE invoice_id = fti.invoice_id\n",
    "                     EXCEPT \n",
    "                     SELECT track_id\n",
    "                     FROM track\n",
    "                     WHERE album_id = (SELECT t2.album_id FROM track t2 WHERE t2.track_id = fti.first_track_id)) IS NULL\n",
    "                THEN 'yes'\n",
    "                ELSE 'No'\n",
    "            END AS album_purchase\n",
    "        FROM first_track_invoice fti\n",
    "     )\n",
    "GROUP BY album_purchase;\n"
   ]
  },
  {
   "cell_type": "markdown",
   "metadata": {
    "collapsed": true
   },
   "source": [
    "Our analysis showed whole album sales comprised almost 20% of the total sales. We will advise the company to keep purchase whole album so they will not lose 20% of the sales."
   ]
  },
  {
   "cell_type": "code",
   "execution_count": null,
   "metadata": {
    "collapsed": true
   },
   "outputs": [],
   "source": []
  },
  {
   "cell_type": "code",
   "execution_count": null,
   "metadata": {
    "collapsed": true
   },
   "outputs": [],
   "source": []
  },
  {
   "cell_type": "code",
   "execution_count": null,
   "metadata": {
    "collapsed": true
   },
   "outputs": [],
   "source": []
  },
  {
   "cell_type": "code",
   "execution_count": null,
   "metadata": {
    "collapsed": true
   },
   "outputs": [],
   "source": []
  }
 ],
 "metadata": {
  "kernelspec": {
   "display_name": "Python 3",
   "language": "python",
   "name": "python3"
  },
  "language_info": {
   "codemirror_mode": {
    "name": "ipython",
    "version": 3
   },
   "file_extension": ".py",
   "mimetype": "text/x-python",
   "name": "python",
   "nbconvert_exporter": "python",
   "pygments_lexer": "ipython3",
   "version": "3.7.0"
  }
 },
 "nbformat": 4,
 "nbformat_minor": 2
}
